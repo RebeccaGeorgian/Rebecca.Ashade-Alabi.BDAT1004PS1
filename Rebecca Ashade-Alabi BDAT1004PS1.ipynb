{
 "cells": [
  {
   "cell_type": "markdown",
   "id": "a5b57c73",
   "metadata": {},
   "source": [
    "# Georgian College\n",
    "# Course: Data Programming\n",
    "# Code: BDAT 1004\n",
    "# Assignment - Problem Set 1\n"
   ]
  },
  {
   "cell_type": "markdown",
   "id": "015b9d67",
   "metadata": {},
   "source": [
    "## Question 1 - Data type identification"
   ]
  },
  {
   "cell_type": "code",
   "execution_count": 9,
   "id": "8ae75f72",
   "metadata": {},
   "outputs": [
    {
     "name": "stdout",
     "output_type": "stream",
     "text": [
      "5\n",
      "5.0\n",
      "True\n",
      "5\n",
      "10\n",
      "55\n",
      "52\n",
      "2.5\n",
      "1\n",
      "{1, 2, 5}\n",
      "False\n"
     ]
    }
   ],
   "source": [
    "print(5)               # is an integer Number\n",
    "print(5.0)             # is a float Number\n",
    "print(5 > 1)           # is a Boolean\n",
    "print('5')             # is a string\n",
    "print(5*2)             # is an integer Number\n",
    "print('5' * 2)         # is a string\n",
    "print('5' + '2')       # string concatenation\n",
    "print(5/2)             # is a float\n",
    "print(5 % 2)           # is a boolean\n",
    "dictionary = {5, 2, 1} # is a dictionary of numbers\n",
    "print (dictionary)\n",
    "print( 5 == 3)         # is an equality operator for Numbers\n",
    "# pi(the number)       # is a contant float\n"
   ]
  },
  {
   "cell_type": "markdown",
   "id": "1809d0f4",
   "metadata": {},
   "source": [
    "## Question 2 - Write and evaluate python expressions"
   ]
  },
  {
   "cell_type": "code",
   "execution_count": 1,
   "id": "66e03a59",
   "metadata": {},
   "outputs": [
    {
     "data": {
      "text/plain": [
       "34"
      ]
     },
     "execution_count": 1,
     "metadata": {},
     "output_type": "execute_result"
    }
   ],
   "source": [
    "# a. get length of string\n",
    "string = 'Supercalifragilisticexpialidocious'\n",
    "len(string)"
   ]
  },
  {
   "cell_type": "code",
   "execution_count": 42,
   "id": "cfa50c4f",
   "metadata": {},
   "outputs": [
    {
     "name": "stdout",
     "output_type": "stream",
     "text": [
      "True\n"
     ]
    }
   ],
   "source": [
    " # b. is the substring ice in string?\n",
    "    \n",
    "string = 'Supercalifragilisticexpialidocious'\n",
    "print('ice' in string)                  "
   ]
  },
  {
   "cell_type": "code",
   "execution_count": 1,
   "id": "c651fe29",
   "metadata": {},
   "outputs": [
    {
     "name": "stdout",
     "output_type": "stream",
     "text": [
      "The Longest Word(s) is/are: \n",
      "Supercalifragilisticexpialidocious Bababadalgharaghtakamminarronnkonn "
     ]
    }
   ],
   "source": [
    "# c. which of the words is the longest\n",
    "# list of words whose length is to be determined.\n",
    "words = ['Supercalifragilisticexpialidocious', 'Honorificabilitudinitatibus', 'Bababadalgharaghtakamminarronnkonn']\n",
    "words_length = []                        # empty list to contain words lengths\n",
    "for word in words:                       # iterates on words list\n",
    "    words_length.append(len(word))       # appends the length of each word to words length\n",
    "print(\"The Longest Word(s) is/are: \")    \n",
    "for word in words:\n",
    "    if len(word) == max(words_length):\n",
    "        print(word, end =' ') # iterates the list to print longest word & modifies print function to substitute new line argument with space."
   ]
  },
  {
   "cell_type": "code",
   "execution_count": 2,
   "id": "8d68a292",
   "metadata": {},
   "outputs": [
    {
     "data": {
      "text/plain": [
       "'Bartok'"
      ]
     },
     "execution_count": 2,
     "metadata": {},
     "output_type": "execute_result"
    }
   ],
   "source": [
    "# d. which composer comes first in dictionary?\n",
    "\n",
    "composer = {'Berlioz', 'Borodin', 'Brian', 'Bartok', 'Bellini', 'Buxtehude', 'Bernstein'}\n",
    "min(composer) # the min inbuilt function works on a collection of string alphabetically"
   ]
  },
  {
   "cell_type": "markdown",
   "id": "f1872dbc",
   "metadata": {},
   "source": [
    "# Question 3 - Implement function for triangle Area with 3 sides"
   ]
  },
  {
   "cell_type": "code",
   "execution_count": 5,
   "id": "add8dbd6",
   "metadata": {},
   "outputs": [
    {
     "data": {
      "text/plain": [
       "1.7320508075688772"
      ]
     },
     "execution_count": 5,
     "metadata": {},
     "output_type": "execute_result"
    }
   ],
   "source": [
    "import math\n",
    "\n",
    "def triangleArea(a, b, c):\n",
    "    # function to calculate the triangle taking its sides a, b, c as arguments\n",
    "    s = (a + b + c) / 2\n",
    "    return math.sqrt(s*(s-a)*(s-b)*(s-c))\n",
    "\n",
    "triangleArea(2, 2, 2)   # function call on triangle with side a=2, b=2 and c=2\n",
    "    "
   ]
  },
  {
   "cell_type": "markdown",
   "id": "b44c22a3",
   "metadata": {},
   "source": [
    "## 4 - separate odd and even integers in separate arrays"
   ]
  },
  {
   "cell_type": "code",
   "execution_count": 12,
   "id": "8b388714",
   "metadata": {},
   "outputs": [
    {
     "name": "stdout",
     "output_type": "stream",
     "text": [
      "[25, 47]\n",
      "[42, 56, 32]\n"
     ]
    }
   ],
   "source": [
    "array = [25, 47, 42, 56, 32]\n",
    "odd = []                      # empty list of odd integers\n",
    "even = []                     # empty list of even integers\n",
    "for number in array:          # iterates over array. If integer divides 2 with no remainder, adds integer to even list, else adds to odd list\n",
    "    if number % 2 == 0:\n",
    "        even.append(number)\n",
    "    else:\n",
    "        odd.append(number)\n",
    "print(odd)\n",
    "print(even)"
   ]
  },
  {
   "cell_type": "markdown",
   "id": "31e33b02",
   "metadata": {},
   "source": [
    "# 5 - write a function inside (x, y,x1,x2,y2) that returns True or False"
   ]
  },
  {
   "cell_type": "code",
   "execution_count": 7,
   "id": "64ce1cab",
   "metadata": {},
   "outputs": [
    {
     "data": {
      "text/plain": [
       "True"
      ]
     },
     "execution_count": 7,
     "metadata": {},
     "output_type": "execute_result"
    }
   ],
   "source": [
    "# 5a. \n",
    "\n",
    "def inside(x, y, x1, y1, x2, y2):\n",
    "    # function inside to check if points (x,y) lies inside rectangle (x1, y1) and (x2, y2)\n",
    "    return (x1 <= x <= x2) and (y1 <= y <= y2)     #returns if point x is > x1 but < x2 and also y > y1 but < y2\n",
    "inside (1, 1, 0, 0, 2, 3)"
   ]
  },
  {
   "cell_type": "code",
   "execution_count": 9,
   "id": "9271c92d",
   "metadata": {},
   "outputs": [
    {
     "data": {
      "text/plain": [
       "False"
      ]
     },
     "execution_count": 9,
     "metadata": {},
     "output_type": "execute_result"
    }
   ],
   "source": [
    "# 5b.\n",
    "inside(1, 1, 0.3, 0.5, 1.1, 0.7)"
   ]
  },
  {
   "cell_type": "code",
   "execution_count": 11,
   "id": "22cb6959",
   "metadata": {},
   "outputs": [
    {
     "data": {
      "text/plain": [
       "True"
      ]
     },
     "execution_count": 11,
     "metadata": {},
     "output_type": "execute_result"
    }
   ],
   "source": [
    "inside(1, 1, 0.5, 0.2, 1.1, 2)"
   ]
  },
  {
   "cell_type": "markdown",
   "id": "46ff3c4d",
   "metadata": {},
   "source": [
    "## 6 - turn word into pig-Latin form"
   ]
  },
  {
   "cell_type": "code",
   "execution_count": 37,
   "id": "58ec00ec",
   "metadata": {},
   "outputs": [
    {
     "name": "stdout",
     "output_type": "stream",
     "text": [
      "Enter a word: Happy\n",
      " Happy --> appyHay\n"
     ]
    }
   ],
   "source": [
    "def piglatin(word):\n",
    "    for i in range(len(word)):\n",
    "        if word[i].lower() in 'aeiou':\n",
    "            return word[i: ] + word[: i] + 'ay'\n",
    "                                    \n",
    "word = input ('Enter a word: ')\n",
    "print(f' {word} --> {piglatin(word)}')\n",
    "\n",
    "# https://www.youtube.com/watch?v=9RPV4JWP1pk accessed Jan 27, 2023."
   ]
  },
  {
   "cell_type": "markdown",
   "id": "df528702",
   "metadata": {},
   "source": [
    "# 7  number of patients in each bloodtype"
   ]
  },
  {
   "cell_type": "code",
   "execution_count": 13,
   "id": "c967e470",
   "metadata": {},
   "outputs": [
    {
     "name": "stdout",
     "output_type": "stream",
     "text": [
      "There are 13 patients of blood type AB.\n",
      "There are 1 patients of blood type B.\n",
      "There are 15 patients of blood type O.\n",
      "There are 15 patients of blood type A.\n"
     ]
    }
   ],
   "source": [
    "def bldcount(name):\n",
    "    #function bldcount taking a file name as argument and reading it to return a list of blood groups\n",
    "    blood_count = []                         #empyt list of blood count\n",
    "    with open(name) as f:                    #opens file 'name', reads it into variable 'f' and closes it\n",
    "        for line in f:                       \n",
    "            blood_count.append(line.strip()) #removes the space after each line in f and appends it to the blood_count list\n",
    "    return blood_count\n",
    "\n",
    "for item in bldcount(\"bloodtype1.txt\"):      #calls bldcount() to read ''bloodtype1.txt''\n",
    "    blood_type = item.split()                #separates each bloodtype in the file\n",
    "code_counters = {}                           #empty dictionary for blood_type: counts\n",
    "for code in blood_type:                      #counts the number of each blood_type and appends the code_counters as its value\n",
    "    if code in code_counters:                \n",
    "        code_counters[code] +=1\n",
    "    else:\n",
    "        code_counters[code] = 1\n",
    "\n",
    "for code in code_counters:                   #prints each blood group and their count using string formatting\n",
    "    print(f\"There are {code_counters[code]} patients of blood type {code}.\")"
   ]
  },
  {
   "cell_type": "markdown",
   "id": "90d4bb36",
   "metadata": {},
   "source": [
    "# 8 -currency converter"
   ]
  },
  {
   "cell_type": "code",
   "execution_count": 3,
   "id": "e6c017aa",
   "metadata": {},
   "outputs": [],
   "source": [
    "def curconv(tic, value):\n",
    "    #currency conversion function that takes a currency symbol and amount as arguments and returns its conversion in USD\n",
    "    with open('currencies.txt') as f:    #opens and read \"currencies.txt\" into variable f and closes file\n",
    "        for line in f:                   #iterates over f to extract currency symbols and multiply it by the rates\n",
    "            if tic == line.split()[0]:\n",
    "                conversion = value * float(line.split()[1])\n",
    "    return conversion"
   ]
  },
  {
   "cell_type": "code",
   "execution_count": 4,
   "id": "1b4da272",
   "metadata": {},
   "outputs": [
    {
     "data": {
      "text/plain": [
       "122.96544"
      ]
     },
     "execution_count": 4,
     "metadata": {},
     "output_type": "execute_result"
    }
   ],
   "source": [
    "curconv('EUR', 100)"
   ]
  },
  {
   "cell_type": "code",
   "execution_count": 5,
   "id": "4e618142",
   "metadata": {},
   "outputs": [
    {
     "data": {
      "text/plain": [
       "1.241401"
      ]
     },
     "execution_count": 5,
     "metadata": {},
     "output_type": "execute_result"
    }
   ],
   "source": [
    "curconv('JPY', 100)"
   ]
  },
  {
   "cell_type": "markdown",
   "id": "8582fa7d",
   "metadata": {},
   "source": [
    "# 9 - identity type of exception"
   ]
  },
  {
   "cell_type": "code",
   "execution_count": null,
   "id": "50d9aeec",
   "metadata": {},
   "outputs": [],
   "source": [
    "#Trying to add incompatible variables, as in adding 6 + 'a'\n",
    "\n",
    "print(6 + 'a')\n",
    "\n",
    "# operation error - concatenating two different variables int and string"
   ]
  },
  {
   "cell_type": "code",
   "execution_count": null,
   "id": "6b4ed08f",
   "metadata": {},
   "outputs": [],
   "source": [
    "# Referring to the 12th item of a list that has only 10\n",
    "\n",
    "lst = [1, 2, 3, 4, 5, 6, 7, 8, 9, 10]\n",
    "print(lst [12])\n",
    "\n",
    "#Index Error - list index is out of range of the list"
   ]
  },
  {
   "cell_type": "code",
   "execution_count": null,
   "id": "37a0da71",
   "metadata": {},
   "outputs": [],
   "source": [
    "#Using a value that is out of the range for a function's input, such as call math.sqrt(-1.0)\n",
    "\n",
    "#Value Error"
   ]
  },
  {
   "cell_type": "code",
   "execution_count": null,
   "id": "fba0c9d5",
   "metadata": {},
   "outputs": [],
   "source": [
    "#Using an undeclared variable, such as print(x) when x has not been defined\n",
    "\n",
    "#Name Error"
   ]
  },
  {
   "cell_type": "code",
   "execution_count": null,
   "id": "b4fe8110",
   "metadata": {},
   "outputs": [],
   "source": [
    "#trying to open a file that does not exist\n",
    "\n",
    "# FileNotFoundError\n"
   ]
  },
  {
   "cell_type": "markdown",
   "id": "664d9387",
   "metadata": {},
   "source": [
    "# 10 - encrption"
   ]
  },
  {
   "cell_type": "code",
   "execution_count": 10,
   "id": "27a39c67",
   "metadata": {},
   "outputs": [
    {
     "name": "stdout",
     "output_type": "stream",
     "text": [
      "[1, 1, 1, 3, 5, 1, 1, 2, 1, 0, 1, 0, 1, 2, 4, 0, 1, 2, 0, 2, 1, 0, 1, 1, 0, 0]\n",
      "[1, 0, 0, 0, 1, 0, 0, 0, 0, 0, 0, 1, 0, 0, 0, 2, 0, 0, 0, 0, 0, 0, 0, 0, 0, 0]\n"
     ]
    }
   ],
   "source": [
    "def frequencies(group):\n",
    "    #function to get frequency count of English alphabets.\n",
    "  engAlpha = \"abcdefghijklmnopqrstuvwqyz\"\n",
    "  counts = []                             #empty list for alphabets\n",
    "  for letter in engAlpha:                 #iterates over each letter of the alphabet\n",
    "    count = group.count(letter)           #returns a count of the letters\n",
    "    counts.append(count)\n",
    "  print(counts)   \n",
    "\n",
    "frequencies(\"The quick red fox got bored and went home.\")\n",
    "frequencies (\"apple\")"
   ]
  },
  {
   "cell_type": "code",
   "execution_count": null,
   "id": "801885ec",
   "metadata": {},
   "outputs": [],
   "source": []
  }
 ],
 "metadata": {
  "kernelspec": {
   "display_name": "Python 3 (ipykernel)",
   "language": "python",
   "name": "python3"
  },
  "language_info": {
   "codemirror_mode": {
    "name": "ipython",
    "version": 3
   },
   "file_extension": ".py",
   "mimetype": "text/x-python",
   "name": "python",
   "nbconvert_exporter": "python",
   "pygments_lexer": "ipython3",
   "version": "3.9.13"
  }
 },
 "nbformat": 4,
 "nbformat_minor": 5
}
